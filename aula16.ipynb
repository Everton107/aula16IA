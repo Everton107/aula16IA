{
  "nbformat": 4,
  "nbformat_minor": 0,
  "metadata": {
    "colab": {
      "provenance": [],
      "authorship_tag": "ABX9TyMAB1/cGA4SwW6HzJs0RVhI",
      "include_colab_link": true
    },
    "kernelspec": {
      "name": "python3",
      "display_name": "Python 3"
    },
    "language_info": {
      "name": "python"
    }
  },
  "cells": [
    {
      "cell_type": "markdown",
      "metadata": {
        "id": "view-in-github",
        "colab_type": "text"
      },
      "source": [
        "<a href=\"https://colab.research.google.com/github/Everton107/aula16IA/blob/main/aula16.ipynb\" target=\"_parent\"><img src=\"https://colab.research.google.com/assets/colab-badge.svg\" alt=\"Open In Colab\"/></a>"
      ]
    },
    {
      "cell_type": "markdown",
      "source": [
        "Aula16"
      ],
      "metadata": {
        "id": "xeO_IAxu6eSh"
      }
    },
    {
      "cell_type": "code",
      "execution_count": null,
      "metadata": {
        "id": "Gv9vb_OM6dVd"
      },
      "outputs": [],
      "source": [
        "import matplotlib.pyplot as plt\n",
        "import numpy as np\n",
        "x=np.linspace(0,10,100)\n",
        "plt.plot(x,x,label='linear')\n",
        "plt.legend()\n",
        "plt.show()"
      ]
    },
    {
      "cell_type": "code",
      "source": [
        "import pandas as pd\n",
        "\n",
        "data={\"País\":[\"Brasil\",\"Russia\",\"India\",\"China\",\"South Africa\"],\n",
        "\"Capital\":[\"Brasilia\",\"Moscow\",\"New Dehli\",\"Beijing\",\"Pretoria\"],\n",
        "\"Área\":[8.516,17.10,3.286,9.597,1.221],\n",
        "\"População\":[200.4,143.5,1252,1357,52.98]}\n",
        "data_table=pd.DataFrame(data)\n",
        "print(data_table)"
      ],
      "metadata": {
        "id": "M2-XmADM6pc5"
      },
      "execution_count": null,
      "outputs": []
    },
    {
      "cell_type": "markdown",
      "source": [
        "k-means"
      ],
      "metadata": {
        "id": "DtEYHjP061Zo"
      }
    },
    {
      "cell_type": "code",
      "source": [
        "import matplotlib.pyplot as plt\n",
        "\n",
        "x = [4, 3, 10, 7, 8, 12, 9 , 2, 10, 12]\n",
        "y = [25, 29, 24, 17, 16, 27, 29, 29, 22, 23]\n",
        "\n",
        "plt.scatter(x, y)\n",
        "plt.show()"
      ],
      "metadata": {
        "id": "-FvEm_AJ6tZZ"
      },
      "execution_count": null,
      "outputs": []
    },
    {
      "cell_type": "code",
      "source": [
        "from sklearn.cluster import KMeans\n",
        "\n",
        "data = list(zip(x, y))\n",
        "inertias = []\n",
        "\n",
        "for i in range(1,11):\n",
        "    kmeans = KMeans(n_clusters=i)\n",
        "    kmeans.fit(data)\n",
        "    inertias.append(kmeans.inertia_)\n",
        "\n",
        "plt.plot(range(1,11), inertias, marker='x')\n",
        "plt.title('Método Elbow')\n",
        "plt.xlabel('Número ideal grupos (clusters)')\n",
        "plt.ylabel('Inertia')\n",
        "plt.show()"
      ],
      "metadata": {
        "id": "UtAFyQKi68kj"
      },
      "execution_count": null,
      "outputs": []
    },
    {
      "cell_type": "code",
      "source": [
        "kmeans = KMeans(n_clusters=3)\n",
        "kmeans.fit(data)\n",
        "\n",
        "plt.scatter(x, y, c=kmeans.labels_)\n",
        "plt.show()"
      ],
      "metadata": {
        "id": "U7Ub5dvx7Aut"
      },
      "execution_count": null,
      "outputs": []
    },
    {
      "cell_type": "code",
      "source": [
        "\n",
        "import numpy as np #para manipular os vetores\n",
        "from matplotlib import pyplot as plt #para plotar os gráficos\n",
        "from sklearn.cluster import KMeans #para usar o KMeans\n",
        "dataset = np.array(\n",
        "#matriz com as coordenadas geográficas de cada loja\n",
        "[[-25, -46],#são paulo\n",
        "[-22, -43], #rio de janeiro\n",
        "[-25, -49], #curitiba\n",
        "[-30, -51], #porto alegre\n",
        "[-19, -43], #belo horizonte\n",
        "[-15, -47], #brasilia\n",
        "[-12, -38], #salvador\n",
        "[-8, -34], #recife\n",
        "[-16, -49], #goiania\n",
        "[-3, -60], #manaus\n",
        "[-22, -47], #campinas\n",
        "[-3, -38], #fortaleza\n",
        "[-21, -47], #ribeirão preto\n",
        "[-23, -51], #maringa\n",
        "[-27, -48], #florianópolis\n",
        "[-21, -43], #juiz de fora\n",
        "[-1, -48], #belém\n",
        "[-10, -67], #rio branco\n",
        "[-8, -63]]) #porto velho\n",
        "plt.scatter(dataset[:,1], dataset[:,0]) #posicionamento dos eixos x e y\n",
        "plt.xlim(-75, -30) #range do eixo x\n",
        "plt.ylim(-50, 10) #range do eixo y\n",
        "plt.grid() #função que desenha a grade no nosso gráfico\n",
        "kmeans = KMeans(n_clusters=3, #numero de clusters\n",
        "init='k-means++', n_init = 10, #algoritmo que define a posição dos clusters de maneira mais assertiva\n",
        "max_iter = 300) #numero máximo de iterações\n",
        "pred_y = kmeans.fit_predict(dataset)\n",
        "plt.scatter(dataset[:,1], dataset[:,0], c = pred_y) #posicionamento dos eixos x e y\n",
        "plt.xlim(-75, -30) #range do eixo x\n",
        "plt.ylim(-50, 10) #range do eixo y\n",
        "plt.grid() #função que desenha a grade no nosso gráfico\n",
        "plt.scatter(kmeans.cluster_centers_[:,1],kmeans.cluster_centers_[:,0], s=70, c='red') #posição de cada centroide no gráfico\n",
        "plt.show()"
      ],
      "metadata": {
        "id": "PhH3Kz-i7MBv"
      },
      "execution_count": null,
      "outputs": []
    },
    {
      "cell_type": "markdown",
      "source": [
        "regressão polinomial"
      ],
      "metadata": {
        "id": "OzCpdwlP7QTg"
      }
    },
    {
      "cell_type": "code",
      "source": [
        "import numpy as np\n",
        "import matplotlib.pyplot as plt\n",
        "\n",
        "x = [1,2,3,5,6,7,8,9,10,12,13,14,15,16,18,19,21,22]\n",
        "y = [100,90,80,60,60,55,60,65,70,70,75,76,78,79,90,99,99,100]\n",
        "\n",
        "modelo = np.poly1d(np.polyfit(x, y, 3))\n",
        "\n",
        "linha = np.linspace(1, 22, 100)\n",
        "\n",
        "plt.scatter(x, y)\n",
        "plt.plot(linha, modelo(linha))\n",
        "plt.show()"
      ],
      "metadata": {
        "id": "OsCFa__l7TKp"
      },
      "execution_count": null,
      "outputs": []
    }
  ]
}